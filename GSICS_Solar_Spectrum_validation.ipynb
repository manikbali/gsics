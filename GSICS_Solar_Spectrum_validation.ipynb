{
  "nbformat": 4,
  "nbformat_minor": 0,
  "metadata": {
    "colab": {
      "name": "GSICS_Solar_Spectrum_validation.ipynb",
      "private_outputs": true,
      "provenance": [],
      "collapsed_sections": [],
      "include_colab_link": true
    },
    "kernelspec": {
      "display_name": "Python 3",
      "name": "python3"
    }
  },
  "cells": [
    {
      "cell_type": "markdown",
      "metadata": {
        "id": "view-in-github",
        "colab_type": "text"
      },
      "source": [
        "<a href=\"https://colab.research.google.com/github/manikbali/gsics/blob/main/GSICS_Solar_Spectrum_validation.ipynb\" target=\"_parent\"><img src=\"https://colab.research.google.com/assets/colab-badge.svg\" alt=\"Open In Colab\"/></a>"
      ]
    },
    {
      "cell_type": "markdown",
      "metadata": {
        "id": "h9UmiF7DEnsr"
      },
      "source": [
        "This notebook aims to inter-validate solar data sets from various sources.\n",
        "Some of the data sets are on GSICS Solar spectrum wiki  Page http://gsics.atmos.umd.edu/bin/view/Development/ReferenceSolarSpectrum\n",
        "\n",
        "On this we have the capability to read in and compare\n",
        "\n",
        "*   TSIS\n",
        "*   SAO2010\n",
        "*   Heliosphere Interval spectrum\n"
      ]
    },
    {
      "cell_type": "markdown",
      "metadata": {
        "id": "iAc3rAHM6LSJ"
      },
      "source": [
        "**Paste the url link copied from**"
      ]
    },
    {
      "cell_type": "markdown",
      "metadata": {
        "id": "b7IkMH8t7V6X"
      },
      "source": [
        "\n",
        "\n",
        "```\n",
        "# This is formatted as code\n",
        "```\n",
        "\n",
        "## **The following cell has four links each data set available**"
      ]
    },
    {
      "cell_type": "markdown",
      "metadata": {
        "id": "uuUZnxF5nPV9"
      },
      "source": [
        "**TSIS Data Sets. ( Selecte one of them)**"
      ]
    },
    {
      "cell_type": "code",
      "metadata": {
        "id": "MjTrUBqz7mN0"
      },
      "source": [
        "tsisurl=\"https://lasp.colorado.edu/lisird/resources/lasp/hsrs/hybrid_reference_spectrum_c2021-03-04_with_unc.nc\"  # Paste Url here and press Runtime-> Run all\n",
        "#tsisurl=\"https://lasp.colorado.edu/lisird/resources/lasp/hsrs/hybrid_reference_spectrum_p025nm_resolution_c2021-03-04_with_unc.nc\"\n",
        "#tsisurl=\"https://lasp.colorado.edu/lisird/resources/lasp/hsrs/hybrid_reference_spectrum_p1nm_resolution_c2021-03-04_with_unc.nc\"\n",
        "#tsisurl=\"https://lasp.colorado.edu/lisird/resources/lasp/hsrs/hybrid_reference_spectrum_1nm_resolution_c2021-03-04_with_unc.nc\""
      ],
      "execution_count": null,
      "outputs": []
    },
    {
      "cell_type": "markdown",
      "metadata": {
        "id": "qdLl9oINnU_E"
      },
      "source": [
        "**SAO2010 Data set**"
      ]
    },
    {
      "cell_type": "markdown",
      "metadata": {
        "id": "MBovu4QHqco1"
      },
      "source": [
        "Reference: Chance, K.; Kurucz, R. L., An improved high-resolution solar reference spectrum for earth's atmosphere measurements in the ultraviolet, visible, and near infrared, Journal of Quantitative Spectroscopy and Radiative Transfer, vol. 111, issue 9, pp. 1289-1295"
      ]
    },
    {
      "cell_type": "code",
      "metadata": {
        "id": "Lex7jL-DRorw"
      },
      "source": [
        "saourl=\"https://lweb.cfa.harvard.edu/atmosphere/links/sao2010.solref.converted\""
      ],
      "execution_count": null,
      "outputs": []
    },
    {
      "cell_type": "markdown",
      "metadata": {
        "id": "WmHYWymNnY9d"
      },
      "source": [
        "**HELIO Data Set**"
      ]
    },
    {
      "cell_type": "markdown",
      "metadata": {
        "id": "m42ZTB6eqllv"
      },
      "source": [
        "Reference: Woods, T. N., P. C. Chamberlin, J. W. Harder, R. Hock, M. Snow, F. G. Eparvier, J. Fontenla, W. E. McClintock, and E. C. Richard, Solar Irradiance Reference Spectra (SIRS) for the 2008 Whole Heliosphere Interval (WHI), Geophys. Res. Lett., 2008."
      ]
    },
    {
      "cell_type": "code",
      "metadata": {
        "id": "fXv6Ze1WS_1Y"
      },
      "source": [
        "heleourl=\"http://lasp.colorado.edu/lisird/resources/whi_ref_spectra/data/ref_solar_irradiance_whi-2008_ver2.dat\""
      ],
      "execution_count": null,
      "outputs": []
    },
    {
      "cell_type": "code",
      "metadata": {
        "id": "TUdPNHNqD2PK"
      },
      "source": [
        "!pip install netCDF4\n",
        "!pip install julian\n",
        "!pip install cftime\n",
        "!pip install holoviews\n",
        "\n",
        "\n",
        "import netCDF4 as nc4\n",
        "import numpy as np\n",
        "import matplotlib.pyplot as plt\n",
        "import datetime \n",
        "import urllib.request\n",
        "from datetime import date\n",
        "import julian\n",
        "import matplotlib\n",
        "from cftime import num2pydate\n",
        "from netCDF4 import num2date\n",
        "import pandas as pd\n",
        "from datetime import datetime\n",
        "import urllib.request\n",
        "import os.path\n",
        "\n",
        "import numpy as np\n",
        "import holoviews as hv\n",
        "\n",
        "#from holoviews import opts\n",
        "#from holoviews.operation.datashader import datashade, shade, dynspread, spread, rasterize\n",
        "#import holoviews.operation.datashader as hd\n",
        "#from holoviews.operation import decimate\n",
        "#from holoviews import OrderedDict\n",
        "#hv.extension('bokeh')\n"
      ],
      "execution_count": null,
      "outputs": []
    },
    {
      "cell_type": "code",
      "metadata": {
        "id": "5H6MN6DTKk9I"
      },
      "source": [
        "!pip install datashader"
      ],
      "execution_count": null,
      "outputs": []
    },
    {
      "cell_type": "code",
      "metadata": {
        "id": "09kSaIPXENXo"
      },
      "source": [
        "#url=\"http://gsics.eumetsat.int/thredds/fileServer/msg4-seviri-prime-demo-rac/W_XX-EUMETSAT-Darmstadt,SATCAL+RAC+GEOLEOIR,MSG4+SEVIRI-PRIME_C_EUMG_20150908000000_demo_00.nc\"\n",
        "\n",
        "url1, nc_file=  os.path.split(tsisurl)\n",
        "urllib.request.urlretrieve(tsisurl, nc_file)"
      ],
      "execution_count": null,
      "outputs": []
    },
    {
      "cell_type": "code",
      "metadata": {
        "id": "AVXldIVQsptX"
      },
      "source": [
        "ds = nc4.Dataset(nc_file)"
      ],
      "execution_count": null,
      "outputs": []
    },
    {
      "cell_type": "code",
      "metadata": {
        "id": "-qBU3zqAtRlc"
      },
      "source": [
        "print(\"Contents of the  TSIS Data File\")\n",
        "print(ds)"
      ],
      "execution_count": null,
      "outputs": []
    },
    {
      "cell_type": "code",
      "metadata": {
        "id": "a6ycFswylMoU"
      },
      "source": [
        "print(\"Variables=\",ds.variables)"
      ],
      "execution_count": null,
      "outputs": []
    },
    {
      "cell_type": "code",
      "metadata": {
        "id": "Ox82mXjmuMaP"
      },
      "source": [
        "with nc4.Dataset(nc_file,'r') as ncid:\n",
        "     wbw      = ncid.variables['Wavelength_Band_Width'][:] # Wavenumber\n",
        "     wavelength      = ncid.variables['Vacuum Wavelength'][:] # Wavelength\n",
        "     ssi= ncid.variables['SSI'][:]\n",
        "     ssi_unc= ncid.variables['SSI_UNC'][:]\n",
        "#     channel_id    = ncid.variables['channel_id'][:] # Channel_ID\n",
        "#     channel       = ncid.variables['channel'][:] # Channel\n",
        "#     origin        = ncid.variables['origin'][:] # Origin\n",
        "#     srf           =ncid.variables['srf'][:][:] # SRF"
      ],
      "execution_count": null,
      "outputs": []
    },
    {
      "cell_type": "code",
      "metadata": {
        "id": "A8bq53J1uPGt"
      },
      "source": [
        "print(wbw)\n",
        "print(wavelength[0:100])\n",
        "print(ssi_unc)\n",
        "print(ssi[0:10])"
      ],
      "execution_count": null,
      "outputs": []
    },
    {
      "cell_type": "markdown",
      "metadata": {
        "id": "-spCrdZ8ydTt"
      },
      "source": [
        ""
      ]
    },
    {
      "cell_type": "code",
      "metadata": {
        "id": "MfFbojlNu62r"
      },
      "source": [
        "plt.figure(figsize=(18,8))\n",
        "plt.plot(wavelength,ssi)\n",
        "#plt.plot(wavelength,ssi_unc,color='orange')\n",
        "plt.ylabel(\"SSI Reference Spectrum (W m-2 nm-1)\" )\n",
        "plt.xlabel('Wavelenght')\n",
        "ttitle=str(str.split(ds.id,\".\")[0]).upper().replace(\"_\",\" \")[:-9]\n",
        "#plt.title(str(str.split(ds.id,\".\")[0]).upper().replace(\"_\",\" \"))\n",
        "plt.title(ttitle)"
      ],
      "execution_count": null,
      "outputs": []
    },
    {
      "cell_type": "markdown",
      "metadata": {
        "id": "Afs5CUB7ub_o"
      },
      "source": [
        "\n",
        "\n",
        "```\n",
        "# This is formatted as code\n",
        "```\n",
        "\n",
        "### **Read in SAO2010 dataset**"
      ]
    },
    {
      "cell_type": "markdown",
      "metadata": {
        "id": "TBMkkLctpyaL"
      },
      "source": [
        "Reference: Chance, K.; Kurucz, R. L., An improved high-resolution solar reference spectrum for earth's atmosphere measurements in the ultraviolet, visible, and near infrared, Journal of Quantitative Spectroscopy and Radiative Transfer, vol. 111, issue 9, pp. 1289-1295"
      ]
    },
    {
      "cell_type": "code",
      "metadata": {
        "id": "l08LAXoVTkMl"
      },
      "source": [
        "import pandas as pd\n",
        "import numpy as np\n",
        "sao=pd.read_csv(saourl,skiprows=4,delim_whitespace=True, names=[\"wavelength\",\"Photons s-1 cm-2 nm-1\",\"SAO2010 Ref Spectral\",\"Watts m-2 cm\" ])\n",
        "plt.figure(figsize=(18,8))\n",
        "print(sao.iloc[0:100])\n",
        "#a.columns=[\"Vacuum wavelength (nm)\",\"Photons s-1 cm-2 nm-1\",\"Watts m-2 nm-1\",\"Watts m-2 cm\" ]"
      ],
      "execution_count": null,
      "outputs": []
    },
    {
      "cell_type": "code",
      "metadata": {
        "id": "axF-Z_WzuwbD"
      },
      "source": [
        "plt.figure(figsize=(18,8))\n",
        "#sao.plot( x=\"Vacuum wavelength (nm)\", y=\"Photons s-1 cm-2 nm-1\",figsize=(18, 8),title=\"SAO2010\",xlabel=\"Vaccum Wavelenght\",ylabel=\"Photons s-1 cm-2 nm-1\")\n",
        "#sao.plot( x=\"Vacuum wavelength (nm)\", y=\"Watts m-2 nm-1\",figsize=(18, 8),title=\"SAO2010\",xlabel=\"Vaccum Wavelenght\",ylabel=\"Photons Watts m-2 nm-1\")\n",
        "sao.plot( x=\"wavelength\", y=\"SAO2010 Ref Spectral\",figsize=(18, 8),title=\"SAO2010\",xlabel=\"Vaccum Wavelenght\",ylabel=\"SAO2010 Ref Spectral\",color='orange')"
      ],
      "execution_count": null,
      "outputs": []
    },
    {
      "cell_type": "code",
      "metadata": {
        "id": "mLtqpPoq0-NM"
      },
      "source": [
        "#tsisdf=pd.DataFrame([wavelength,ssi,ssi_unc]).T"
      ],
      "execution_count": null,
      "outputs": []
    },
    {
      "cell_type": "code",
      "metadata": {
        "id": "xkoHsI5rBIuJ"
      },
      "source": [
        "tsisdf=pd.DataFrame(np.vstack((wavelength,ssi,ssi_unc)).T, columns=['wavelength','TSIS Ref_spectral',\t'TSIS Uncertainity'])\n",
        "tsisdf.set_index('wavelength')\n"
      ],
      "execution_count": null,
      "outputs": []
    },
    {
      "cell_type": "code",
      "metadata": {
        "id": "xvuyzUIV0nVq"
      },
      "source": [
        "tsisdf.columns=[\"wavelength\",\"TSIS Ref_spectral\",\"TSIS Uncertainity\"]\n",
        "tsisindex=tsisdf[\"wavelength\"]\n",
        "tsisdf.set_index('wavelength',inplace=True)\n",
        "sao.reindex(pd.Index(tsisindex))"
      ],
      "execution_count": null,
      "outputs": []
    },
    {
      "cell_type": "code",
      "metadata": {
        "id": "PS-bejhGxeV6"
      },
      "source": [
        "tsis_saodf=pd.merge(tsisdf,sao,on='wavelength',how='outer')"
      ],
      "execution_count": null,
      "outputs": []
    },
    {
      "cell_type": "code",
      "metadata": {
        "id": "D888OgMox324"
      },
      "source": [
        "plt.figure(figsize=(18,8))\n",
        "tsis_saodf.plot(x=\"wavelength\",y=['TSIS Ref_spectral','SAO2010 Ref Spectral','TSIS Uncertainity'],title=\"TSIS \"+ttitle+ \" Vs SAO2010\",ylabel='Irradiance [Watts m-2 nm-1]' ,figsize=(18,8))\n",
        "#tsis_saodf.plot(x=\"wavelength\",y=['TSIS Ref_spectral','Uncertainity'],ylabel='Irradiance [Watts m-2 nm-1] ',title=\"Comparision of Uncertainity /TSIS\",figsize=(18,8))\n",
        "#tsis_saodf[['Ref_spectral','Watts m-2 nm-1']].plot( )"
      ],
      "execution_count": null,
      "outputs": []
    },
    {
      "cell_type": "markdown",
      "metadata": {
        "id": "Ed1UTzog-cgn"
      },
      "source": [
        "**Read in HELEOS dataset**"
      ]
    },
    {
      "cell_type": "markdown",
      "metadata": {
        "id": "jWso374npos5"
      },
      "source": [
        "Reference: Woods, T. N., P. C. Chamberlin, J. W. Harder, R. Hock, M. Snow, F. G. Eparvier, J. Fontenla, W. E. McClintock, and E. C. Richard, Solar Irradiance Reference Spectra (SIRS) for the 2008 Whole Heliosphere Interval (WHI), Geophys. Res. Lett., 2008."
      ]
    },
    {
      "cell_type": "code",
      "metadata": {
        "id": "gMk5QNlx-j_T"
      },
      "source": [
        "import pandas as pd\n",
        "heleoref=pd.read_csv(heleourl,skiprows=142, delim_whitespace=True, names=[\"wavelength\",\"Helio1\",\"Helio2\",\"Helio3\" ,\"DataSource\"])\n",
        "heleoref.set_index(\"wavelength\")\n",
        "heleoref.reindex(pd.Index(tsisindex))\n",
        "tsis_saod_heleo_df=pd.merge(tsis_saodf,heleoref,on='wavelength',how='outer')"
      ],
      "execution_count": null,
      "outputs": []
    },
    {
      "cell_type": "markdown",
      "metadata": {
        "id": "OeZYEJveT3tr"
      },
      "source": [
        "**Compare HELEO SAO and TSIS Solar Data Set**"
      ]
    },
    {
      "cell_type": "code",
      "metadata": {
        "id": "x7prLW-GjVWi"
      },
      "source": [
        "tsis_saod_heleo_df.set_index('wavelength')\n",
        "tsis_saod_heleo_df.plot(x=\"wavelength\",y=['TSIS Ref_spectral','SAO2010 Ref Spectral','Helio1','Helio2','Helio3','TSIS Uncertainity'],ylabel='Irradiance',figsize=(30,10),title= \"TSIS \" + ttitle + \" Vs SAO2010\"+ \" Vs HELIO\")"
      ],
      "execution_count": null,
      "outputs": []
    },
    {
      "cell_type": "code",
      "metadata": {
        "id": "DD_mWtlJ52PR"
      },
      "source": [
        "slicedf=tsis_saod_heleo_df[(tsis_saod_heleo_df['wavelength'] > 300 ) & (tsis_saod_heleo_df['wavelength'] < 1000 ) ]"
      ],
      "execution_count": null,
      "outputs": []
    },
    {
      "cell_type": "code",
      "metadata": {
        "id": "5xXyzv4CPvlJ"
      },
      "source": [
        "import datashader as ds\n",
        "import numpy as np\n",
        "import holoviews as hv\n",
        "import datashader as ds\n",
        "from holoviews import opts\n",
        "from holoviews.operation.datashader import datashade, shade, dynspread, spread, rasterize\n",
        "import holoviews.operation.datashader as hd\n",
        "from holoviews.operation import decimate\n",
        "from holoviews import OrderedDict\n",
        "hv.extension('bokeh')"
      ],
      "execution_count": null,
      "outputs": []
    },
    {
      "cell_type": "code",
      "metadata": {
        "id": "WBMlrTFGO-DV"
      },
      "source": [
        "from datashader.colors import Sets1to3\n",
        "from holoviews.streams import RangeXY\n",
        "from bokeh.models import HoverTool,ColumnDataSource\n",
        "legend_dict = OrderedDict()\n",
        "points = hv.Points(tsis_saod_heleo_df.sample(10000))\n",
        "\n",
        "hv.extension('bokeh')\n",
        "hv_obj = hv.opts(width=100, height=100)\n",
        "\n",
        "soldatasets=['TSIS Ref_spectral','TSIS Uncertainity','Helio3','SAO2010 Ref Spectral','Helio1','Helio2',]\n",
        "ccolors=['grey','green','orange','blue','red','purple']\n",
        "source=ColumnDataSource(data=tsis_saod_heleo_df)\n",
        "\n",
        "color_key = {k: c for k, c in zip(soldatasets, ccolors[0:len(soldatasets)])}\n",
        "\n",
        "hover = HoverTool(tooltips=[(\"wavelength\", \"$wavelength\"), (\"TSIS Ref_spectral\", \"$TSIS Ref_spectral\"), (\"SAO\", \"$SAO2010 Ref Spectral\")])\n",
        "\n",
        "lines={i: hv.Curve((tsis_saod_heleo_df['wavelength'].to_numpy(), tsis_saod_heleo_df[i].to_numpy()),'Wavelenght in nm', 'Irradiance') for i in soldatasets}\n",
        "\n",
        "linespread = dynspread(datashade(hv.NdOverlay(lines, kdims='k'), aggregator=ds.by('k', ds.count()),color_key=color_key))\n",
        "\n",
        "#help(linespread)\n",
        "for i in range(len(soldatasets)):\n",
        "  c = soldatasets[i]\n",
        "  legend_dict[c]=   hv.Points([0,0], label=c).opts(style=dict(color=color_key[c]) ) \n",
        "\n",
        "\n",
        "#linespread.opts(opts.RGB(width=1400,height=500))\n",
        "dynamic = hv.util.Dynamic(hd.aggregate(points, width=13, height=13, streams=[RangeXY]), \n",
        "                          operation=hv.QuadMesh) \\\n",
        "          .opts(tools=['hover'], alpha=0, hover_alpha=0.2)\n",
        "#hover.tooltips = ['TSIS Ref_spectral','SAO2010 Ref Spectral','Helio1','Helio2','Helio3','TSIS Uncertainity']\n",
        "\n",
        "(linespread*dynamic* hv.NdOverlay(legend_dict)).opts(width=1500,height=500).relabel(\"Solar Datasets\")"
      ],
      "execution_count": null,
      "outputs": []
    }
  ]
}